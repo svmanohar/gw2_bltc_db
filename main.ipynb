{
 "cells": [
  {
   "cell_type": "code",
   "execution_count": 1,
   "metadata": {},
   "outputs": [],
   "source": [
    "# Using https://stackoverflow.com/questions/67268723/insert-json-data-into-postgres-table-using-python as guide\n",
    "import requests, json\n",
    "import psycopg2\n",
    "import pandas as pd\n",
    "import config\n",
    "\n",
    "db_password = config.password"
   ]
  },
  {
   "cell_type": "code",
   "execution_count": 2,
   "metadata": {},
   "outputs": [],
   "source": [
    "# define url for api call\n",
    "sales_url = \"https://api.guildwars2.com/v2/commerce/transactions/history/sells?access_token=900E00C1-390E-3143-B44A-D8EF1E9224195B43D84C-9F9E-4669-A538-7FF4A5DA70C1\"\n",
    "# make api call\n",
    "response = requests.get(sales_url)"
   ]
  },
  {
   "cell_type": "code",
   "execution_count": 3,
   "metadata": {},
   "outputs": [],
   "source": [
    "# get items endpoint from Silveress' API\n",
    "items_url = 'https://api.datawars2.ie/gw2/v1/items/json/new'\n",
    "# make API call and get response, converting to json\n",
    "items_response_json = requests.get(items_url).json()"
   ]
  },
  {
   "cell_type": "code",
   "execution_count": 4,
   "metadata": {},
   "outputs": [],
   "source": [
    "# Create empty list to store sell prices and replace any values that are missing (ie items in GW2 that aren't sold on TP) with 0\n",
    "sell_prices = []\n",
    "for i in range(len(items_response_json)):\n",
    "    try:\n",
    "        sell_prices.append(items_response_json[i]['sell_price'])\n",
    "    except KeyError:\n",
    "        items_response_json[i]['sell_price'] = 0\n",
    "        items_response_json[i]['sell_quantity'] = 0\n",
    "        items_response_json[i]['buy_price'] = 0\n",
    "        items_response_json[i]['buy_quantity'] = 0"
   ]
  },
  {
   "cell_type": "code",
   "execution_count": 5,
   "metadata": {},
   "outputs": [],
   "source": [
    "# get api call from GW2 sales endpoint response as json (list of dicts)\n",
    "sales_response_json = response.json()"
   ]
  },
  {
   "cell_type": "code",
   "execution_count": 6,
   "metadata": {},
   "outputs": [],
   "source": [
    "# make connection to postgres database\n",
    "con = psycopg2.connect(f'dbname=gw2_bltc user=postgres host=localhost password={db_password}')\n",
    "# instantiate the cursor for which we execute with\n",
    "cur = con.cursor()\n",
    "# create two INSERT INTO queries, using string formtting to replace these with values from our JSON\n",
    "insert_sql_sales = \"\"\"INSERT INTO sales VALUES(%s, %s, %s, %s, %s, %s) ON CONFLICT (id) DO NOTHING;\"\"\"\n",
    "insert_sql_items = \"\"\"INSERT INTO item_dict VALUES(%s, %s, %s, %s, %s, %s, %s) ON CONFLICT (id) DO NOTHING;\"\"\"\n",
    "\n",
    "for record in sales_response_json:\n",
    "    cur.execute(insert_sql_sales, [\n",
    "        record['id'], record['item_id'], record['price'], record['quantity'],\n",
    "        record['created'], record['purchased']\n",
    "    ])\n",
    "con.commit()\n",
    "\n",
    "for record in items_response_json:\n",
    "    cur.execute(insert_sql_items, [\n",
    "        record['id'], record['buy_price'], record['buy_quantity'],\n",
    "        record['lastUpdate'], record['name'], record['sell_price'],\n",
    "        record['sell_quantity']\n",
    "    ])\n",
    "con.commit()"
   ]
  }
 ],
 "metadata": {
  "interpreter": {
   "hash": "627915600a4eb4f495b23eec21396ca2e3939749f93a94e4e5cb4b02f2754b93"
  },
  "kernelspec": {
   "display_name": "Python 3.9.4 64-bit ('gw2_bltc': conda)",
   "name": "python3"
  },
  "language_info": {
   "codemirror_mode": {
    "name": "ipython",
    "version": 3
   },
   "file_extension": ".py",
   "mimetype": "text/x-python",
   "name": "python",
   "nbconvert_exporter": "python",
   "pygments_lexer": "ipython3",
   "version": "3.9.4"
  },
  "orig_nbformat": 4
 },
 "nbformat": 4,
 "nbformat_minor": 2
}
